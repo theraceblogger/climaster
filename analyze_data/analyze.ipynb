{
 "cells": [
  {
   "cell_type": "code",
   "execution_count": 1,
   "metadata": {
    "execution": {
     "iopub.execute_input": "2021-08-06T21:24:03.923239Z",
     "iopub.status.busy": "2021-08-06T21:24:03.922488Z",
     "iopub.status.idle": "2021-08-06T21:24:04.250929Z",
     "shell.execute_reply": "2021-08-06T21:24:04.251962Z"
    }
   },
   "outputs": [],
   "source": [
    "import os\n",
    "import psycopg2\n",
    "from psycopg2.extras import DictCursor\n",
    "import pandas as pd"
   ]
  },
  {
   "cell_type": "code",
   "execution_count": 2,
   "metadata": {
    "execution": {
     "iopub.execute_input": "2021-08-06T21:24:04.256577Z",
     "iopub.status.busy": "2021-08-06T21:24:04.255070Z",
     "iopub.status.idle": "2021-08-06T21:24:04.307253Z",
     "shell.execute_reply": "2021-08-06T21:24:04.308154Z"
    }
   },
   "outputs": [],
   "source": [
    "# Function that connects to database\n",
    "def db_connect():\n",
    "    db_name = os.environ['db_name']\n",
    "    db_user = os.environ['db_user']\n",
    "    db_host = os.environ['db_host']\n",
    "    db_credentials = os.environ['db_creds']\n",
    "  \n",
    "    conn_string = \"dbname='\" + str(db_name) + \"' user='\" + str(db_user) + \"' host='\" + str(db_host) + \"' password='\" + str(db_credentials) + \"'\"\n",
    "\n",
    "    try:\n",
    "        conn = psycopg2.connect(str(conn_string))\n",
    "        conn.autocommit = True\n",
    "    except:\n",
    "        print(\"Unable to connect to the database\")\n",
    "\n",
    "    cur = conn.cursor(cursor_factory=DictCursor)\n",
    "    return cur\n",
    "\n",
    "cur = db_connect()"
   ]
  },
  {
   "cell_type": "code",
   "execution_count": 3,
   "metadata": {
    "execution": {
     "iopub.execute_input": "2021-08-06T21:24:04.312550Z",
     "iopub.status.busy": "2021-08-06T21:24:04.311346Z",
     "iopub.status.idle": "2021-08-06T21:24:04.508732Z",
     "shell.execute_reply": "2021-08-06T21:24:04.510075Z"
    }
   },
   "outputs": [
    {
     "data": {
      "text/html": [
       "<div>\n",
       "<style scoped>\n",
       "    .dataframe tbody tr th:only-of-type {\n",
       "        vertical-align: middle;\n",
       "    }\n",
       "\n",
       "    .dataframe tbody tr th {\n",
       "        vertical-align: top;\n",
       "    }\n",
       "\n",
       "    .dataframe thead th {\n",
       "        text-align: right;\n",
       "    }\n",
       "</style>\n",
       "<table border=\"1\" class=\"dataframe\">\n",
       "  <thead>\n",
       "    <tr style=\"text-align: right;\">\n",
       "      <th></th>\n",
       "      <th>0</th>\n",
       "    </tr>\n",
       "  </thead>\n",
       "  <tbody>\n",
       "    <tr>\n",
       "      <th>0</th>\n",
       "      <td>1990-01-01</td>\n",
       "    </tr>\n",
       "    <tr>\n",
       "      <th>1</th>\n",
       "      <td>1990-01-02</td>\n",
       "    </tr>\n",
       "    <tr>\n",
       "      <th>2</th>\n",
       "      <td>1990-01-03</td>\n",
       "    </tr>\n",
       "    <tr>\n",
       "      <th>3</th>\n",
       "      <td>1990-01-04</td>\n",
       "    </tr>\n",
       "    <tr>\n",
       "      <th>4</th>\n",
       "      <td>1990-01-05</td>\n",
       "    </tr>\n",
       "  </tbody>\n",
       "</table>\n",
       "</div>"
      ],
      "text/plain": [
       "            0\n",
       "0  1990-01-01\n",
       "1  1990-01-02\n",
       "2  1990-01-03\n",
       "3  1990-01-04\n",
       "4  1990-01-05"
      ]
     },
     "execution_count": 3,
     "metadata": {},
     "output_type": "execute_result"
    }
   ],
   "source": [
    "# Load weather data to DataFrame\n",
    "query = \"SELECT * FROM weather.weather_clean\"\n",
    "cur.execute(query)\n",
    "results = cur.fetchall()\n",
    "\n",
    "flat_results = []\n",
    "for result in results:\n",
    "    flat_results.append(result[0])\n",
    "weather_df = pd.DataFrame(flat_results)\n",
    "weather_df.head()"
   ]
  },
  {
   "cell_type": "code",
   "execution_count": 4,
   "metadata": {
    "execution": {
     "iopub.execute_input": "2021-08-06T21:24:04.516398Z",
     "iopub.status.busy": "2021-08-06T21:24:04.512826Z",
     "iopub.status.idle": "2021-08-06T21:24:04.697951Z",
     "shell.execute_reply": "2021-08-06T21:24:04.698814Z"
    }
   },
   "outputs": [
    {
     "data": {
      "text/html": [
       "<div>\n",
       "<style scoped>\n",
       "    .dataframe tbody tr th:only-of-type {\n",
       "        vertical-align: middle;\n",
       "    }\n",
       "\n",
       "    .dataframe tbody tr th {\n",
       "        vertical-align: top;\n",
       "    }\n",
       "\n",
       "    .dataframe thead th {\n",
       "        text-align: right;\n",
       "    }\n",
       "</style>\n",
       "<table border=\"1\" class=\"dataframe\">\n",
       "  <thead>\n",
       "    <tr style=\"text-align: right;\">\n",
       "      <th></th>\n",
       "      <th>0</th>\n",
       "    </tr>\n",
       "  </thead>\n",
       "  <tbody>\n",
       "    <tr>\n",
       "      <th>0</th>\n",
       "      <td>1900-0006-JAM</td>\n",
       "    </tr>\n",
       "    <tr>\n",
       "      <th>1</th>\n",
       "      <td>1900-0008-JPN</td>\n",
       "    </tr>\n",
       "    <tr>\n",
       "      <th>2</th>\n",
       "      <td>1900-0003-USA</td>\n",
       "    </tr>\n",
       "    <tr>\n",
       "      <th>3</th>\n",
       "      <td>1900-0007-JAM</td>\n",
       "    </tr>\n",
       "    <tr>\n",
       "      <th>4</th>\n",
       "      <td>1900-9001-IND</td>\n",
       "    </tr>\n",
       "  </tbody>\n",
       "</table>\n",
       "</div>"
      ],
      "text/plain": [
       "               0\n",
       "0  1900-0006-JAM\n",
       "1  1900-0008-JPN\n",
       "2  1900-0003-USA\n",
       "3  1900-0007-JAM\n",
       "4  1900-9001-IND"
      ]
     },
     "execution_count": 4,
     "metadata": {},
     "output_type": "execute_result"
    }
   ],
   "source": [
    "# Load disaster data to DataFrame\n",
    "query = \"SELECT * FROM weather.disasters_clean\"\n",
    "cur.execute(query)\n",
    "results = cur.fetchall()\n",
    "\n",
    "flat_results = []\n",
    "for result in results:\n",
    "    flat_results.append(result[0])\n",
    "disaster_df = pd.DataFrame(flat_results)\n",
    "disaster_df.head()"
   ]
  },
  {
   "cell_type": "code",
   "execution_count": null,
   "metadata": {},
   "outputs": [],
   "source": []
  },
  {
   "cell_type": "code",
   "execution_count": null,
   "metadata": {},
   "outputs": [],
   "source": []
  },
  {
   "cell_type": "code",
   "execution_count": null,
   "metadata": {},
   "outputs": [],
   "source": []
  },
  {
   "cell_type": "code",
   "execution_count": null,
   "metadata": {},
   "outputs": [],
   "source": []
  },
  {
   "cell_type": "code",
   "execution_count": null,
   "metadata": {},
   "outputs": [],
   "source": []
  },
  {
   "cell_type": "code",
   "execution_count": null,
   "metadata": {},
   "outputs": [],
   "source": []
  },
  {
   "cell_type": "code",
   "execution_count": null,
   "metadata": {},
   "outputs": [],
   "source": []
  },
  {
   "cell_type": "code",
   "execution_count": null,
   "metadata": {},
   "outputs": [],
   "source": []
  },
  {
   "cell_type": "code",
   "execution_count": null,
   "metadata": {},
   "outputs": [],
   "source": []
  },
  {
   "cell_type": "code",
   "execution_count": null,
   "metadata": {},
   "outputs": [],
   "source": []
  }
 ],
 "metadata": {
  "kernelspec": {
   "display_name": "Python 3",
   "language": "python",
   "name": "python3"
  },
  "language_info": {
   "codemirror_mode": {
    "name": "ipython",
    "version": 3
   },
   "file_extension": ".py",
   "mimetype": "text/x-python",
   "name": "python",
   "nbconvert_exporter": "python",
   "pygments_lexer": "ipython3",
   "version": "3.7.10"
  }
 },
 "nbformat": 4,
 "nbformat_minor": 4
}
