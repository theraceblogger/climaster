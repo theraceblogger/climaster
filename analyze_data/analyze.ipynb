{
 "cells": [
  {
   "cell_type": "code",
   "execution_count": null,
   "metadata": {},
   "outputs": [],
   "source": [
    "import os\n",
    "import psycopg2\n",
    "from psycopg2.extras import DictCursor\n",
    "import pandas as pd"
   ]
  },
  {
   "cell_type": "code",
   "execution_count": null,
   "metadata": {},
   "outputs": [],
   "source": [
    "# Function that connects to database\n",
    "def db_connect():\n",
    "    db_name = os.environ['db_name']\n",
    "    db_user = os.environ['db_user']\n",
    "    db_host = os.environ['db_host']\n",
    "    db_credentials = os.environ['db_creds']\n",
    "  \n",
    "    conn_string = \"dbname='\" + str(db_name) + \"' user='\" + str(db_user) + \"' host='\" + str(db_host) + \"' password='\" + str(db_credentials) + \"'\"\n",
    "\n",
    "    try:\n",
    "        conn = psycopg2.connect(str(conn_string))\n",
    "        conn.autocommit = True\n",
    "    except:\n",
    "        print(\"Unable to connect to the database\")\n",
    "\n",
    "    cur = conn.cursor(cursor_factory=DictCursor)\n",
    "    return cur\n",
    "\n",
    "cur = db_connect()"
   ]
  },
  {
   "cell_type": "code",
   "execution_count": null,
   "metadata": {},
   "outputs": [],
   "source": [
    "# Load weather data to DataFrame\n",
    "query = \"\"\n",
    "cur.execute(query)\n",
    "results = cur.fetchall()\n",
    "\n",
    "flat_results = []\n",
    "for result in results:\n",
    "    flat_results.append(result[0])\n",
    "weather_df = pd.DataFrame(flat_results)"
   ]
  },
  {
   "cell_type": "code",
   "execution_count": null,
   "metadata": {},
   "outputs": [],
   "source": [
    "# Load disaster data to DataFrame\n",
    "query = \"\"\n",
    "cur.execute(query)\n",
    "results = cur.fetchall()\n",
    "\n",
    "flat_results = []\n",
    "for result in results:\n",
    "    flat_results.append(result[0])\n",
    "disaster_df = pd.DataFrame(flat_results)"
   ]
  },
  {
   "cell_type": "code",
   "execution_count": null,
   "metadata": {},
   "outputs": [],
   "source": []
  },
  {
   "cell_type": "code",
   "execution_count": null,
   "metadata": {},
   "outputs": [],
   "source": []
  },
  {
   "cell_type": "code",
   "execution_count": null,
   "metadata": {},
   "outputs": [],
   "source": []
  },
  {
   "cell_type": "code",
   "execution_count": null,
   "metadata": {},
   "outputs": [],
   "source": []
  },
  {
   "cell_type": "code",
   "execution_count": null,
   "metadata": {},
   "outputs": [],
   "source": []
  },
  {
   "cell_type": "code",
   "execution_count": null,
   "metadata": {},
   "outputs": [],
   "source": []
  },
  {
   "cell_type": "code",
   "execution_count": null,
   "metadata": {},
   "outputs": [],
   "source": []
  },
  {
   "cell_type": "code",
   "execution_count": null,
   "metadata": {},
   "outputs": [],
   "source": []
  },
  {
   "cell_type": "code",
   "execution_count": null,
   "metadata": {},
   "outputs": [],
   "source": []
  },
  {
   "cell_type": "code",
   "execution_count": null,
   "metadata": {},
   "outputs": [],
   "source": []
  }
 ],
 "metadata": {
  "kernelspec": {
   "display_name": "Python 3",
   "language": "python",
   "name": "python3"
  },
  "language_info": {
   "codemirror_mode": {
    "name": "ipython",
    "version": 3
   },
   "file_extension": ".py",
   "mimetype": "text/x-python",
   "name": "python",
   "nbconvert_exporter": "python",
   "pygments_lexer": "ipython3",
   "version": "3.7.3"
  }
 },
 "nbformat": 4,
 "nbformat_minor": 4
}
